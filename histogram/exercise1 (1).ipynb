{
 "cells": [
  {
   "cell_type": "markdown",
   "id": "b4e3811d",
   "metadata": {},
   "source": [
    "\n",
    "------\n",
    "\n",
    "# Meassuring Performance\n",
    "## Exercise #1\n",
    "\n",
    "In this exercise you will meassure the perfromane of `histogram.cpp`. A **histogram** is a graph used to represent the frequency distribution of a few data points of one variable. Histograms often classify data into various \"bins\" or \"range groups\" and count how many data points belong to each of those bins.\n",
    "\n",
    "This simple program `histogram.cpp` will create a histogram of several data points and meassure the time it takes to execute it sequentially (`Tseq`)"
   ]
  },
  {
   "cell_type": "code",
   "execution_count": 2,
   "id": "036383e0",
   "metadata": {},
   "outputs": [
    {
     "name": "stdout",
     "output_type": "stream",
     "text": [
      "Overwriting histogram.cpp\n"
     ]
    }
   ],
   "source": [
    "%%writefile histogram.cpp\n",
    "\n",
    "#include <cstdlib>\n",
    "#include <iostream>\n",
    "#include <time.h>\n",
    "#include <chrono>\n",
    "#include <iomanip>\n",
    "\n",
    "#define MAX_SIZE 1000000000\n",
    "#define BINS 10\n",
    "#define MAX(a,b) (((a)>(b))?(a):(b))\n",
    "\n",
    "using namespace std;\n",
    "using namespace std::chrono;\n",
    "\n",
    "int main(int argc, char const *argv[]) {\n",
    "    int n = 10;\n",
    "    // Declaring data as static allows for biger array sizes\n",
    "    static int data[MAX_SIZE];\n",
    "    double seq_durations[9];\n",
    "    int row = 0;\n",
    "    \n",
    "    // SVP: Initialized the seed only once in the main() function \n",
    "    // for the rand() in the sequential version of the fucntion.\n",
    "    srand(time(NULL));\n",
    "\n",
    "    cout << \"Processing histogram sequentially...\" << endl;\n",
    "    \n",
    "    while (n <= MAX_SIZE)\n",
    "    {\n",
    "        // Histogram will contain 10 bins \n",
    "        int histogram[BINS] = {0};\n",
    "        \n",
    "        cout << \"  calculating histogram for \" <<  n << \" elements\" << endl;\n",
    "        \n",
    "        // start timing \n",
    "        auto start = high_resolution_clock::now();\n",
    "\n",
    "        // Generate random data points from 0 to 9\n",
    "        for (int i = 0; i < n; ++i)\n",
    "            data[i] = rand() % 10;\n",
    "\n",
    "        // Organize data by placing data points\n",
    "        // into corresponding bins\n",
    "        for (int i = 0; i < n; ++i)\n",
    "        {\n",
    "            int point = data[i];\n",
    "            histogram[point]++;\n",
    "            // or\n",
    "            // histogram[data[i]]++;\n",
    "\n",
    "        }\n",
    "\n",
    "        // stop timing \n",
    "        auto stop = high_resolution_clock::now();\n",
    "        // Get duration. Substart timepoints to\n",
    "        // get duration. To cast it to proper unit\n",
    "        // use duration cast method\n",
    "        auto duration = duration_cast<microseconds>(stop - start);\n",
    "        \n",
    "        seq_durations[row++] = duration.count()/1000000.0;\n",
    "        \n",
    "        // Increase the size of the data 10 folds\n",
    "        n *= 10;\n",
    "\n",
    "    }\n",
    "    \n",
    "    cout << endl << \"Done!\" <<  endl << \"Printing results: \" << endl << endl;\n",
    "        \n",
    "    row = 0;\n",
    "    ostringstream ss;\n",
    "    ss << std::setw( 12 ) << setfill( ' ' ) << left << \"n (size)\";\n",
    "    ss << \"time (s)\" << endl;\n",
    "    \n",
    "    for (int i = 10; i <= MAX_SIZE; i *= 10)\n",
    "    {\n",
    "        ss << setw( 12 ) << setfill( ' ' ) << left << i;\n",
    "        ss << seq_durations[row++] << endl;\n",
    "    }\n",
    "    \n",
    "    cout << ss.str();\n",
    "\n",
    "    return 0;\n",
    "}\n",
    "\n"
   ]
  },
  {
   "cell_type": "code",
   "execution_count": 3,
   "id": "d8612eab",
   "metadata": {},
   "outputs": [],
   "source": [
    "!g++ histogram.cpp -o histogram -pedantic -Wall"
   ]
  },
  {
   "cell_type": "code",
   "execution_count": 4,
   "id": "37da3e27",
   "metadata": {},
   "outputs": [
    {
     "name": "stdout",
     "output_type": "stream",
     "text": [
      "Processing histogram sequentially...\n",
      "  calculating histogram for 10 elements\n",
      "  calculating histogram for 100 elements\n",
      "  calculating histogram for 1000 elements\n",
      "  calculating histogram for 10000 elements\n",
      "  calculating histogram for 100000 elements\n",
      "  calculating histogram for 1000000 elements\n",
      "  calculating histogram for 10000000 elements\n",
      "  calculating histogram for 100000000 elements\n",
      "  calculating histogram for 1000000000 elements\n",
      "\n",
      "Done!\n",
      "Printing results: \n",
      "\n",
      "n (size)    time (s)\n",
      "10          2e-06\n",
      "100         3e-06\n",
      "1000        2.8e-05\n",
      "10000       0.000205\n",
      "100000      0.002077\n",
      "1000000     0.012784\n",
      "10000000    0.109844\n",
      "100000000   1.09698\n",
      "1000000000  10.8249\n"
     ]
    }
   ],
   "source": [
    "!./histogram"
   ]
  },
  {
   "cell_type": "markdown",
   "id": "79379ae8",
   "metadata": {},
   "source": [
    "\n",
    "-------\n",
    "\n",
    "## Parallel Histogram\n",
    "\n",
    "Now we have the parallel version of the histogram program `para_histogram.cpp` which will calculate the histogram of datasets of different sizes (`n`), using an increasing number of processing units (**threads** in the case of this program). Run the cell below to see the parallel execution time (`Tpar`) for datasets of sizes 10 to 1,000,000,000 using 1, 2, 4, 8, 16, 32, 64, 128, 256, and 512 threads."
   ]
  },
  {
   "cell_type": "code",
   "execution_count": 5,
   "id": "3fc00b1f",
   "metadata": {},
   "outputs": [
    {
     "name": "stdout",
     "output_type": "stream",
     "text": [
      "Overwriting para_histogram.cpp\n"
     ]
    }
   ],
   "source": [
    "%%writefile para_histogram.cpp\n",
    "\n",
    "#include <cstdlib>\n",
    "#include <iostream>\n",
    "#include <chrono>\n",
    "#include <iomanip>\n",
    "#include <string> \n",
    "#include <time.h>\n",
    "#include <omp.h>\n",
    "\n",
    "#define MAX_SIZE 1000000000\n",
    "#define BINS 10\n",
    "#define MAX(a,b) (((a)>(b))?(a):(b))\n",
    "#define MAX_THREADS 512\n",
    "\n",
    "using namespace std;\n",
    "using namespace std::chrono;\n",
    "\n",
    "int main(int argc, char const *argv[]) {\n",
    "    int n = 10;\n",
    "    // Declaring data as static allows for biger array sizes\n",
    "    static int data[MAX_SIZE];\n",
    "    double par_durations[9][10] = {0.0};\n",
    "    int row = 0, col = 0;\n",
    "    int threads = 1;\n",
    "    \n",
    "    // SVP: Initialized the seed only once in the main() function \n",
    "    // for the rand() in the sequential version of the fucntion.\n",
    "    srand(time(NULL));\n",
    "\n",
    "    cout << \"Processing histogram in parallel...\" << endl;\n",
    "    \n",
    "\n",
    "    while (threads <= MAX_THREADS){\n",
    "        cout << \"  Using \" <<  threads << \" threads\" << endl << endl;\n",
    "        \n",
    "        n = 10;\n",
    "        while (n <= MAX_SIZE)\n",
    "        {\n",
    "            int t_histogram[BINS] = {0};\n",
    "            \n",
    "            double start_time = omp_get_wtime();\n",
    "            \n",
    "            #pragma omp parallel num_threads(threads)\n",
    "            {\n",
    "                // Initialize a seed for each individual thread. \n",
    "                unsigned int seed = 42 + omp_get_thread_num();\n",
    "                int t_point;\n",
    "\n",
    "                #pragma omp for\n",
    "                for (int i = 0; i < n; i++) {\n",
    "                    // Substitute the rand() function which is not thread safe for the thread-safe version rand_r(seed)\n",
    "                    t_point = rand_r(&seed) % 10;\n",
    "                    data[i] = t_point;\n",
    "                }\n",
    "\n",
    "        \n",
    "                #pragma omp for reduction(+:t_histogram[:10])\n",
    "                for (int i = 0; i < n; ++i) {\n",
    "                    t_point = data[i];\n",
    "                    t_histogram[t_point]++;\n",
    "                }\n",
    "            }\n",
    "            double duration = omp_get_wtime() - start_time;\n",
    "            par_durations[row][col] = duration;\n",
    "            \n",
    "            row++;\n",
    "            n *= 10;\n",
    "        }\n",
    "        \n",
    "        threads *= 2;\n",
    "        row = 0;\n",
    "        col++;\n",
    "\n",
    "    }\n",
    "    \n",
    "    cout << endl << \"Done!\" <<  endl << \"Printing results: col = \" << col << endl << endl;\n",
    "        \n",
    "    row = 0;\n",
    "    ostringstream ss, to_csv;\n",
    "    ss << setw( 11 ) << setfill( ' ' ) << left << \"n (size)\";\n",
    "    \n",
    "    for (int t = 1; t <= MAX_THREADS; t *= 2)\n",
    "    {\n",
    "        string thr = \"T=\" + to_string(t) + \" (s)\";\n",
    "        ss << std::setw( 11 ) << setfill( ' ' ) << left << thr;\n",
    "    }\n",
    "\n",
    "    ss << endl;\n",
    "    to_csv << \"n,T=1,T=2,T=4,T=8,T=16,T=32,T=64,T=128,T=256,T=512\\\\n\";\n",
    "    \n",
    "    for (int i = 10; i <= MAX_SIZE; i *= 10)\n",
    "    {\n",
    "        ss << setw( 11 ) << setfill( ' ' ) << left << i;\n",
    "        to_csv << i;\n",
    "        \n",
    "        for (int c = 0; c < col; c++)\n",
    "        {\n",
    "            ss << setw( 11 ) << setfill( ' ' ) << left << par_durations[row][c];\n",
    "            to_csv << \",\" << par_durations[row][c]; \n",
    "        }\n",
    "        \n",
    "        ss << endl;\n",
    "        to_csv << \"\\\\n\";\n",
    "        \n",
    "        row++;\n",
    "    }\n",
    "    \n",
    "    cout << ss.str() << endl;;\n",
    "    cout << to_csv.str();\n",
    "\n",
    "    return 0;\n",
    "}"
   ]
  },
  {
   "cell_type": "code",
   "execution_count": 6,
   "id": "14f7ab35",
   "metadata": {},
   "outputs": [],
   "source": [
    "!g++ -fopenmp para_histogram.cpp -o para_histo -pedantic -Wall"
   ]
  },
  {
   "cell_type": "code",
   "execution_count": 7,
   "id": "1be9a3a1",
   "metadata": {
    "scrolled": true
   },
   "outputs": [
    {
     "name": "stdout",
     "output_type": "stream",
     "text": [
      "Processing histogram in parallel...\n",
      "  Using 1 threads\n",
      "\n",
      "  Using 2 threads\n",
      "\n",
      "  Using 4 threads\n",
      "\n",
      "  Using 8 threads\n",
      "\n",
      "  Using 16 threads\n",
      "\n",
      "  Using 32 threads\n",
      "\n",
      "  Using 64 threads\n",
      "\n",
      "  Using 128 threads\n",
      "\n",
      "  Using 256 threads\n",
      "\n",
      "  Using 512 threads\n",
      "\n",
      "\n",
      "Done!\n",
      "Printing results: col = 10\n",
      "\n",
      "n (size)   T=1 (s)    T=2 (s)    T=4 (s)    T=8 (s)    T=16 (s)   T=32 (s)   T=64 (s)   T=128 (s)  T=256 (s)  T=512 (s)  \n",
      "10         3.08771e-050.0001603940.0001788710.0002748020.0003038480.00055841 0.00117379 0.00211146 0.0047046  0.00775658 \n",
      "100        5.78398e-061.46162e-051.28979e-051.72649e-052.0979e-05 5.19389e-050.0004600520.0007004790.00135267 0.00247887 \n",
      "1000       1.99638e-052.61399e-052.97879e-055.56107e-052.08011e-054.8059e-05 0.0004804660.0008188530.00136343 0.00248994 \n",
      "10000      0.0001534650.0001381348.71778e-055.42323e-056.1098e-05 5.00339e-050.0003501080.0007641890.00137662 0.00249915 \n",
      "100000     0.00153124 0.00129235 0.0007613940.0003781320.0001698890.0001104550.00056849 0.0007797840.00118158 0.00267951 \n",
      "1000000    0.0102058  0.0118405  0.00640273 0.00327187 0.00159491 0.0008533670.00113812 0.00128687 0.00175862 0.00279037 \n",
      "10000000   0.0800271  0.0949134  0.0544964  0.0280457  0.0147387  0.0079881  0.00701723 0.004782   0.00535534 0.00721398 \n",
      "100000000  0.790854   0.642058   0.341936   0.191326   0.113694   0.0672114  0.0516461  0.0393604  0.0386703  0.0362281  \n",
      "1000000000 7.87894    4.00123    2.06517    1.29542    0.798353   0.497659   0.311599   0.272777   0.259524   0.244141   \n",
      "\n",
      "n,T=1,T=2,T=4,T=8,T=16,T=32,T=64,T=128,T=256,T=512\\n10,3.08771e-05,0.000160394,0.000178871,0.000274802,0.000303848,0.00055841,0.00117379,0.00211146,0.0047046,0.00775658\\n100,5.78398e-06,1.46162e-05,1.28979e-05,1.72649e-05,2.0979e-05,5.19389e-05,0.000460052,0.000700479,0.00135267,0.00247887\\n1000,1.99638e-05,2.61399e-05,2.97879e-05,5.56107e-05,2.08011e-05,4.8059e-05,0.000480466,0.000818853,0.00136343,0.00248994\\n10000,0.000153465,0.000138134,8.71778e-05,5.42323e-05,6.1098e-05,5.00339e-05,0.000350108,0.000764189,0.00137662,0.00249915\\n100000,0.00153124,0.00129235,0.000761394,0.000378132,0.000169889,0.000110455,0.00056849,0.000779784,0.00118158,0.00267951\\n1000000,0.0102058,0.0118405,0.00640273,0.00327187,0.00159491,0.000853367,0.00113812,0.00128687,0.00175862,0.00279037\\n10000000,0.0800271,0.0949134,0.0544964,0.0280457,0.0147387,0.0079881,0.00701723,0.004782,0.00535534,0.00721398\\n100000000,0.790854,0.642058,0.341936,0.191326,0.113694,0.0672114,0.0516461,0.0393604,0.0386703,0.0362281\\n1000000000,7.87894,4.00123,2.06517,1.29542,0.798353,0.497659,0.311599,0.272777,0.259524,0.244141\\n"
     ]
    }
   ],
   "source": [
    "!./para_histo"
   ]
  },
  {
   "cell_type": "markdown",
   "id": "c5ad86c9",
   "metadata": {},
   "source": [
    "\n",
    "-----\n",
    "\n",
    "## Vizualizing Results\n",
    "\n",
    "Now, copy the comma-separated list of results that you obtained from running the `para_histogram.cpp`, the one that start with `n,T=1,T=2,T=4,T=8,T=16,T=32,T=64,T=128,T=256,T=512\\n...`, and paste it in the second line of the cell below, execute it to make a CSV file to generate a chart with the parallel execution times of your choosing."
   ]
  },
  {
   "cell_type": "code",
   "execution_count": 97,
   "id": "b5dfc775",
   "metadata": {},
   "outputs": [],
   "source": [
    "f = open('results_parallel.csv','w')\n",
    "f.write('PASTE THE COMMA-SEPARATED VAUES HERE') #Give your csv values here.\n",
    "## Python will convert \\n to os.linesep\n",
    "f.close()"
   ]
  },
  {
   "cell_type": "code",
   "execution_count": 8,
   "id": "c8cef216",
   "metadata": {},
   "outputs": [
    {
     "name": "stdout",
     "output_type": "stream",
     "text": [
      "            n        T=1       T=2       T=4       T=8      T=16      T=32  \\\n",
      "0          10   0.000038  0.000210  0.000259  0.000188  0.000356  0.001428   \n",
      "1         100   0.000007  0.000008  0.000010  0.000010  0.000023  0.000058   \n",
      "2        1000   0.000034  0.000034  0.000051  0.000015  0.000019  0.000046   \n",
      "3       10000   0.000192  0.000158  0.000108  0.000046  0.000032  0.000050   \n",
      "4      100000   0.001927  0.001491  0.000795  0.000329  0.000176  0.000105   \n",
      "5     1000000   0.019054  0.013897  0.007336  0.003225  0.001709  0.000814   \n",
      "6    10000000   0.166111  0.118210  0.061225  0.031372  0.014873  0.010539   \n",
      "7   100000000   1.144770  0.549252  0.430555  0.203945  0.114199  0.065901   \n",
      "8  1000000000  11.160800  5.593880  3.295270  1.969940  1.019900  0.449069   \n",
      "\n",
      "       T=64     T=128     T=256     T=512  \n",
      "0  0.000981  0.002006  0.003795  0.007956  \n",
      "1  0.000349  0.000676  0.001127  0.002299  \n",
      "2  0.000404  0.000493  0.001138  0.002265  \n",
      "3  0.000314  0.000687  0.000935  0.002397  \n",
      "4  0.000419  0.000667  0.001459  0.002389  \n",
      "5  0.001466  0.001102  0.001701  0.002425  \n",
      "6  0.008501  0.004772  0.006051  0.006695  \n",
      "7  0.053206  0.037749  0.039325  0.038213  \n",
      "8  0.357206  0.281538  0.296266  0.277843  \n"
     ]
    },
    {
     "data": {
      "image/png": "[encoded data removed]",
      "text/plain": [
       "<Figure size 432x288 with 1 Axes>"
      ]
     },
     "metadata": {
      "needs_background": "light"
     },
     "output_type": "display_data"
    },
    {
     "data": {
      "image/png": "[encoded data removed]",
      "text/plain": [
       "<Figure size 432x288 with 1 Axes>"
      ]
     },
     "metadata": {
      "needs_background": "light"
     },
     "output_type": "display_data"
    }
   ],
   "source": [
    "#import library\n",
    "import pandas as pd\n",
    "\n",
    "#add csv file to dataframe\n",
    "df = pd.read_csv('results_parallel.csv')\n",
    "\n",
    "print (df)\n",
    "\n",
    "#create line graphgra\n",
    "bargraph = df.plot.line(x = 'n')\n",
    "\n",
    "#to plot T=1 vs T=2\n",
    "bargraph = df.plot.line(x = 'n', y=['T=1', 'T=2'])\n"
   ]
  },
  {
   "cell_type": "markdown",
   "id": "df8a617c",
   "metadata": {},
   "source": [
    "## Calculate Speedup and Efficiency\n",
    "\n",
    "You will use the results of `Tpar` to calculate **Speedup** and **Efficiency** of `para_histogram.cpp`"
   ]
  },
  {
   "cell_type": "code",
   "execution_count": null,
   "id": "53ad5ee0",
   "metadata": {},
   "outputs": [],
   "source": []
  }
 ],
 "metadata": {
  "kernelspec": {
   "display_name": "Python 3",
   "language": "python",
   "name": "python3"
  },
  "language_info": {
   "codemirror_mode": {
    "name": "ipython",
    "version": 3
   },
   "file_extension": ".py",
   "mimetype": "text/x-python",
   "name": "python",
   "nbconvert_exporter": "python",
   "pygments_lexer": "ipython3",
   "version": "3.6.8"
  }
 },
 "nbformat": 4,
 "nbformat_minor": 5
}
